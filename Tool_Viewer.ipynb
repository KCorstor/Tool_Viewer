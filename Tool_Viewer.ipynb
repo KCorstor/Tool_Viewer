{
 "cells": [
  {
   "cell_type": "code",
   "execution_count": null,
   "id": "8b9140cc-e6cf-4c0e-806f-6f4cd5d40a96",
   "metadata": {},
   "outputs": [],
   "source": [
    "# This is an AI Agent to bakwards engineer contact information for varios public github repos that are shown to use certain dev tools and are qualified as potential sales targets.\n",
    "# This Agent also performs developer mapping and creates a profile based on a devs previously used toolset, \n"
   ]
  },
  {
   "cell_type": "code",
   "execution_count": null,
   "id": "6e136e8d-5bc8-41ff-9222-9b1020e68114",
   "metadata": {},
   "outputs": [],
   "source": [
    "Get List of Public Repos that are relevant. Scrape GitHub, figure out rate limiting. Get list of every app using open ai. Add x to a vector db"
   ]
  },
  {
   "cell_type": "code",
   "execution_count": 41,
   "id": "d9c82980-8388-4d4d-bbea-0584d60b5613",
   "metadata": {},
   "outputs": [
    {
     "ename": "SyntaxError",
     "evalue": "invalid syntax (3560752671.py, line 4)",
     "output_type": "error",
     "traceback": [
      "\u001b[0;36m  File \u001b[0;32m\"/var/folders/91/bcl7bj6n2fqf9j03fdhyl02c0000gn/T/ipykernel_3405/3560752671.py\"\u001b[0;36m, line \u001b[0;32m4\u001b[0m\n\u001b[0;31m    Public Repo - use LLM to get all contributors\u001b[0m\n\u001b[0m           ^\u001b[0m\n\u001b[0;31mSyntaxError\u001b[0m\u001b[0;31m:\u001b[0m invalid syntax\n"
     ]
    }
   ],
   "source": [
    "Public Repo:\n",
    "    \n",
    "How to tell if it's openAI's free tier, or would be paid:\n",
    "\n",
    "use LLM to get all contributors\n",
    "Analyze Name & Email in commits\n",
    "Check the email address in commit metadata, (if it's not anonymized by GitHub)\n",
    "username, name, bio, email, company, location, blog, followers, repos, contributions\n",
    "                                             \n",
    "Tools: git log or use GitHub's web interface to see commit history.\n",
    "Github Profile Bio\n",
    "                                             \n",
    "                                             \n",
    "Here is how chatGPT scraped Ashar's Identity: https://chatgpt.com/c/67e4a0ef-8d90-8008-8d3d-fafb4c1bd3a2\n",
    "                                             \n",
    "                                             \n",
    "People often include their real name, location, personal website or even Linkedin. Scrape Bio, Find their name from that. \n",
    "                                             \n",
    "Combine GitHub name/location info with job titles to find likely LinkedIn profiles.\n",
    "\n",
    "Tools: LinkedIn Sales Navigator, PhantomBuster, or custom OpenAI-based fuzzy matche\n",
    "                                             \n",
    "                                             \n",
    "Reasoning:\n",
    "                                             \n",
    "                                             \n",
    "🥈 Semi-Reliable: Cross-Referencing\n",
    "Gravatar Lookup\n",
    "\n",
    "GitHub avatars come from Gravatar, which uses email hashes. You can sometimes reverse the hash if you have a suspected email.\n",
    "\n",
    "Handle Matching\n",
    "\n",
    "Look for the same handle across platforms (e.g., GitHub, LinkedIn, Twitter, Dev.to, Stack Overflow).\n",
    "\n",
    "Tools: Sherlock, Namechk\n",
    "\n",
    "Repository Context\n",
    "\n",
    "People sometimes name repos after their employers, universities, or personal projects (e.g., my-thesis-harvard).\n",
    "\n",
    "Contributors to Known Projects\n",
    "\n",
    "If they contribute to a company repo, check the org's team page.\n",
    "                                            \n",
    "\n",
    "                                             \n",
    "For the Devs you can't get in touch with - make a PR                                             \n",
    "                                             \n",
    "                                             \n",
    "                                             \n",
    "private repo mapping\n",
    "\n",
    "                                             \n",
    "List of Companies you know are working on AI projects do Mapping project with every source you can find.\n",
    "\n",
    "\n",
    "Dev Mapping\n",
    "\n",
    "Most interesting repos are private. Need to figure out what tooling the devs have typically used, make an educated mapping profile on all of \n",
    "\n",
    "\n",
    "#Identify Repos that are using x foundational model over another foundational model. Do this for all foundational models, and then frameworks\n",
    "#Filter by commits, number of people, filter by whatever else to find projects that are actually relevant. \n",
    "\n",
    "\n",
    "\n",
    "                                             \n",
    "\n"
   ]
  },
  {
   "cell_type": "code",
   "execution_count": null,
   "id": "85b35a3e-75d6-4da9-8fce-36b3d0fa1b6b",
   "metadata": {},
   "outputs": [],
   "source": [
    "# Add Email Marketing Agent      \n",
    "                                             \n",
    "# Create product-specific sales tools like why cost or reasoning is better"
   ]
  },
  {
   "cell_type": "code",
   "execution_count": null,
   "id": "d9a8bc53-c2c8-4569-a721-dbc1710b38cf",
   "metadata": {},
   "outputs": [],
   "source": []
  },
  {
   "cell_type": "code",
   "execution_count": 10,
   "id": "42363b35-cf93-4591-88ac-53840029acfb",
   "metadata": {},
   "outputs": [
    {
     "name": "stdout",
     "output_type": "stream",
     "text": [
      "Requirement already satisfied: python-dotenv in /Users/kevincorstorphine/opt/anaconda3/lib/python3.9/site-packages (1.1.0)\n",
      "Note: you may need to restart the kernel to use updated packages.\n"
     ]
    }
   ],
   "source": [
    "pip install python-dotenv"
   ]
  },
  {
   "cell_type": "code",
   "execution_count": 25,
   "id": "422387ab-e2c2-4d1b-8a70-a33d65cce2b7",
   "metadata": {},
   "outputs": [
    {
     "data": {
      "text/plain": [
       "True"
      ]
     },
     "execution_count": 25,
     "metadata": {},
     "output_type": "execute_result"
    }
   ],
   "source": [
    "import csv\n",
    "import os\n",
    "from dotenv import load_dotenv, dotenv_values\n",
    "load_dotenv()\n"
   ]
  },
  {
   "cell_type": "code",
   "execution_count": 12,
   "id": "384f6ca6-3f48-480b-a2ed-f9291f74d09f",
   "metadata": {},
   "outputs": [
    {
     "name": "stdout",
     "output_type": "stream",
     "text": [
      "Top repo:\n",
      "Name: tensorflow/tensorflow\n",
      "URL: https://github.com/tensorflow/tensorflow\n"
     ]
    }
   ],
   "source": [
    "import requests\n",
    "\n",
    "headers = {\n",
    "    \"Accept\": \"application/vnd.github+json\",\n",
    "    \"Authorization\": \"GITHUB_TOKEN\"\n",
    "}\n",
    "\n",
    "query = \"machine learning\"\n",
    "url = f\"https://api.github.com/search/repositories?q={query}&sort=stars&order=desc&per_page=1&page=1\"\n",
    "\n",
    "response = requests.get(url, headers=headers)\n",
    "data = response.json()\n",
    "\n",
    "if response.status_code != 200:\n",
    "    print(\"Error:\", data.get(\"message\", \"Unknown error\"))\n",
    "    print(\"Status code:\", response.status_code)\n",
    "    print(\"Response headers:\", response.headers)\n",
    "else:\n",
    "    repo = data[\"items\"][0]\n",
    "    print(\"Top repo:\")\n",
    "    print(\"Name:\", repo[\"full_name\"])\n",
    "    print(\"URL:\", repo[\"html_url\"])\n"
   ]
  },
  {
   "cell_type": "code",
   "execution_count": 35,
   "id": "1b1b2535-f606-4e1c-adb6-ffc15ee27e0e",
   "metadata": {},
   "outputs": [],
   "source": [
    "\n",
    "# Data you want to add\n",
    "new_row = repo['contributors_url']\n",
    "\n",
    "# Open the CSV in append mode (\"a\"), create it if it doesn't exist\n",
    "with open('list.csv', mode='a', newline='') as file:\n",
    "    writer = csv.writer(file)\n",
    "    writer.writerow(new_row)\n"
   ]
  },
  {
   "cell_type": "code",
   "execution_count": 31,
   "id": "87096328-e17b-4701-9b1c-666ec21768f7",
   "metadata": {},
   "outputs": [
    {
     "name": "stdout",
     "output_type": "stream",
     "text": [
      "{'total_count': 777918, 'incomplete_results': False, 'items': [{'id': 45717250, 'node_id': 'MDEwOlJlcG9zaXRvcnk0NTcxNzI1MA==', 'name': 'tensorflow', 'full_name': 'tensorflow/tensorflow', 'private': False, 'owner': {'login': 'tensorflow', 'id': 15658638, 'node_id': 'MDEyOk9yZ2FuaXphdGlvbjE1NjU4NjM4', 'avatar_url': 'https://avatars.githubusercontent.com/u/15658638?v=4', 'gravatar_id': '', 'url': 'https://api.github.com/users/tensorflow', 'html_url': 'https://github.com/tensorflow', 'followers_url': 'https://api.github.com/users/tensorflow/followers', 'following_url': 'https://api.github.com/users/tensorflow/following{/other_user}', 'gists_url': 'https://api.github.com/users/tensorflow/gists{/gist_id}', 'starred_url': 'https://api.github.com/users/tensorflow/starred{/owner}{/repo}', 'subscriptions_url': 'https://api.github.com/users/tensorflow/subscriptions', 'organizations_url': 'https://api.github.com/users/tensorflow/orgs', 'repos_url': 'https://api.github.com/users/tensorflow/repos', 'events_url': 'https://api.github.com/users/tensorflow/events{/privacy}', 'received_events_url': 'https://api.github.com/users/tensorflow/received_events', 'type': 'Organization', 'user_view_type': 'public', 'site_admin': False}, 'html_url': 'https://github.com/tensorflow/tensorflow', 'description': 'An Open Source Machine Learning Framework for Everyone', 'fork': False, 'url': 'https://api.github.com/repos/tensorflow/tensorflow', 'forks_url': 'https://api.github.com/repos/tensorflow/tensorflow/forks', 'keys_url': 'https://api.github.com/repos/tensorflow/tensorflow/keys{/key_id}', 'collaborators_url': 'https://api.github.com/repos/tensorflow/tensorflow/collaborators{/collaborator}', 'teams_url': 'https://api.github.com/repos/tensorflow/tensorflow/teams', 'hooks_url': 'https://api.github.com/repos/tensorflow/tensorflow/hooks', 'issue_events_url': 'https://api.github.com/repos/tensorflow/tensorflow/issues/events{/number}', 'events_url': 'https://api.github.com/repos/tensorflow/tensorflow/events', 'assignees_url': 'https://api.github.com/repos/tensorflow/tensorflow/assignees{/user}', 'branches_url': 'https://api.github.com/repos/tensorflow/tensorflow/branches{/branch}', 'tags_url': 'https://api.github.com/repos/tensorflow/tensorflow/tags', 'blobs_url': 'https://api.github.com/repos/tensorflow/tensorflow/git/blobs{/sha}', 'git_tags_url': 'https://api.github.com/repos/tensorflow/tensorflow/git/tags{/sha}', 'git_refs_url': 'https://api.github.com/repos/tensorflow/tensorflow/git/refs{/sha}', 'trees_url': 'https://api.github.com/repos/tensorflow/tensorflow/git/trees{/sha}', 'statuses_url': 'https://api.github.com/repos/tensorflow/tensorflow/statuses/{sha}', 'languages_url': 'https://api.github.com/repos/tensorflow/tensorflow/languages', 'stargazers_url': 'https://api.github.com/repos/tensorflow/tensorflow/stargazers', 'contributors_url': 'https://api.github.com/repos/tensorflow/tensorflow/contributors', 'subscribers_url': 'https://api.github.com/repos/tensorflow/tensorflow/subscribers', 'subscription_url': 'https://api.github.com/repos/tensorflow/tensorflow/subscription', 'commits_url': 'https://api.github.com/repos/tensorflow/tensorflow/commits{/sha}', 'git_commits_url': 'https://api.github.com/repos/tensorflow/tensorflow/git/commits{/sha}', 'comments_url': 'https://api.github.com/repos/tensorflow/tensorflow/comments{/number}', 'issue_comment_url': 'https://api.github.com/repos/tensorflow/tensorflow/issues/comments{/number}', 'contents_url': 'https://api.github.com/repos/tensorflow/tensorflow/contents/{+path}', 'compare_url': 'https://api.github.com/repos/tensorflow/tensorflow/compare/{base}...{head}', 'merges_url': 'https://api.github.com/repos/tensorflow/tensorflow/merges', 'archive_url': 'https://api.github.com/repos/tensorflow/tensorflow/{archive_format}{/ref}', 'downloads_url': 'https://api.github.com/repos/tensorflow/tensorflow/downloads', 'issues_url': 'https://api.github.com/repos/tensorflow/tensorflow/issues{/number}', 'pulls_url': 'https://api.github.com/repos/tensorflow/tensorflow/pulls{/number}', 'milestones_url': 'https://api.github.com/repos/tensorflow/tensorflow/milestones{/number}', 'notifications_url': 'https://api.github.com/repos/tensorflow/tensorflow/notifications{?since,all,participating}', 'labels_url': 'https://api.github.com/repos/tensorflow/tensorflow/labels{/name}', 'releases_url': 'https://api.github.com/repos/tensorflow/tensorflow/releases{/id}', 'deployments_url': 'https://api.github.com/repos/tensorflow/tensorflow/deployments', 'created_at': '2015-11-07T01:19:20Z', 'updated_at': '2025-03-26T21:02:53Z', 'pushed_at': '2025-03-26T21:05:20Z', 'git_url': 'git://github.com/tensorflow/tensorflow.git', 'ssh_url': 'git@github.com:tensorflow/tensorflow.git', 'clone_url': 'https://github.com/tensorflow/tensorflow.git', 'svn_url': 'https://github.com/tensorflow/tensorflow', 'homepage': 'https://tensorflow.org', 'size': 1174245, 'stargazers_count': 188849, 'watchers_count': 188849, 'language': 'C++', 'has_issues': True, 'has_projects': True, 'has_downloads': True, 'has_wiki': False, 'has_pages': False, 'has_discussions': False, 'forks_count': 74602, 'mirror_url': None, 'archived': False, 'disabled': False, 'open_issues_count': 7849, 'license': {'key': 'apache-2.0', 'name': 'Apache License 2.0', 'spdx_id': 'Apache-2.0', 'url': 'https://api.github.com/licenses/apache-2.0', 'node_id': 'MDc6TGljZW5zZTI='}, 'allow_forking': True, 'is_template': False, 'web_commit_signoff_required': False, 'topics': ['deep-learning', 'deep-neural-networks', 'distributed', 'machine-learning', 'ml', 'neural-network', 'python', 'tensorflow'], 'visibility': 'public', 'forks': 74602, 'open_issues': 7849, 'watchers': 188849, 'default_branch': 'master', 'score': 1.0}]}\n"
     ]
    }
   ],
   "source": [
    "print(data)\n",
    "\n"
   ]
  },
  {
   "cell_type": "code",
   "execution_count": null,
   "id": "aaf3fc3a-ef8f-4bc3-8331-d5a3f0c936fc",
   "metadata": {},
   "outputs": [],
   "source": [
    "\n",
    "add to a folder\n",
    "get requirements, dockerfile, \n"
   ]
  },
  {
   "cell_type": "code",
   "execution_count": 18,
   "id": "615b697c-8655-4380-9251-6e590dc74bd8",
   "metadata": {},
   "outputs": [],
   "source": [
    "# https://chatgpt.com/c/67e2fa1a-2850-8008-99a8-bd908a6eb335\n"
   ]
  },
  {
   "cell_type": "code",
   "execution_count": null,
   "id": "e6bf041d-76e3-49f5-a7cb-dd63584c9248",
   "metadata": {},
   "outputs": [],
   "source": []
  },
  {
   "cell_type": "code",
   "execution_count": 2,
   "id": "16cc0819-8047-4ffd-85d5-e8197c5fecdd",
   "metadata": {},
   "outputs": [
    {
     "ename": "SyntaxError",
     "evalue": "invalid character '🔍' (U+1F50D) (3781455242.py, line 1)",
     "output_type": "error",
     "traceback": [
      "\u001b[0;36m  File \u001b[0;32m\"/var/folders/91/bcl7bj6n2fqf9j03fdhyl02c0000gn/T/ipykernel_21596/3781455242.py\"\u001b[0;36m, line \u001b[0;32m1\u001b[0m\n\u001b[0;31m    🔍 1. Scrape and Analyze Public Repositories (e.g., GitHub)\u001b[0m\n\u001b[0m    ^\u001b[0m\n\u001b[0;31mSyntaxError\u001b[0m\u001b[0;31m:\u001b[0m invalid character '🔍' (U+1F50D)\n"
     ]
    }
   ],
   "source": [
    "# 🔍 1. Scrape and Analyze Public Repositories (e.g., GitHub)\n",
    "# What to look for:\n",
    "\n",
    "# ML frameworks: TensorFlow, PyTorch, Hugging Face Transformers, etc.\n",
    "\n",
    "# Infrastructure: Docker, Kubernetes, Terraform\n",
    "\n",
    "# Languages: Python, Java, Go, etc.\n",
    "\n",
    "# Tooling: MLflow, Weights & Biases, Ray, etc.\n",
    "\n",
    "# How to do it:\n",
    "\n",
    "# Use GitHub’s API to pull repo metadata, requirements.txt, Dockerfile, etc.\n",
    "\n",
    "# Parse for keywords and dependencies.\n",
    "\n",
    "# Analyze commit history and contributors to see which teams or engineers worked on what."
   ]
  },
  {
   "cell_type": "code",
   "execution_count": null,
   "id": "22020adf-72bd-4874-8299-21e10ca9eb7d",
   "metadata": {},
   "outputs": [],
   "source": [
    "# 🧠 2. Use Job Postings for Stack Clues\n",
    "# What to look for:\n",
    "\n",
    "# Job listings for ML Engineers, MLOps, or Applied Scientists.\n",
    "\n",
    "# Stacks and tools mentioned (they’re usually very specific).\n",
    "\n",
    "# Tools to help:\n",
    "\n",
    "# Diffbot or Apollo.io for scraping and structuring job post data.\n",
    "\n",
    "# Simple web scraping + LLM pipeline to extract and summarize"
   ]
  },
  {
   "cell_type": "code",
   "execution_count": null,
   "id": "af461323-28f6-44b6-a7b2-659542284ea6",
   "metadata": {},
   "outputs": [],
   "source": [
    "# 🌐 3. Explore Company Engineering Blogs & Tech Talks\n",
    "# Places to check:\n",
    "\n",
    "# Medium, Dev.to, Substack, company tech blogs.\n",
    "\n",
    "# YouTube talks or conference slides (e.g., NeurIPS, PyData, MLConf).\n",
    "\n",
    "# How to analyze:\n",
    "\n",
    "# Use an agent (e.g. LangChain + LLM) to summarize or cross-reference stacks across companies."
   ]
  },
  {
   "cell_type": "code",
   "execution_count": null,
   "id": "b863a3d1-9b3d-48cb-843b-f8921b1c925d",
   "metadata": {},
   "outputs": [],
   "source": [
    "# 🧩 4. LinkedIn Engineering Profiles\n",
    "# Use case:\n",
    "\n",
    "# Search for engineers in ML roles at the target companies.\n",
    "\n",
    "# Analyze their LinkedIn summaries and endorsements for tooling or stack mentions.\n",
    "\n",
    "# Bonus: You can build a mini-graph of tools used across the org based on who lists what."
   ]
  },
  {
   "cell_type": "code",
   "execution_count": null,
   "id": "fed42043-365c-4c0d-a22a-e6b26bc44d7b",
   "metadata": {},
   "outputs": [],
   "source": [
    "# 📦 5. Inspect Their Products (Client/Server Side)\n",
    "# For web-based ML products:\n",
    "\n",
    "# Use browser dev tools or tools like Wappalyzer to detect front-end and API tools.\n",
    "\n",
    "# Look for WebAssembly, ONNX.js, TensorFlow.js, etc.\n",
    "\n",
    "# For APIs:\n",
    "\n",
    "# If their ML product exposes APIs, use Postman or curl to inspect endpoints and infer architecture."
   ]
  },
  {
   "cell_type": "code",
   "execution_count": null,
   "id": "06cfb131-fb4e-458f-87ab-3a7baeb8eb76",
   "metadata": {},
   "outputs": [],
   "source": [
    "# 🧪 6. Use Prebuilt Tools & Databases\n",
    "# Examples:\n",
    "\n",
    "# StackShare.io – Check stack disclosures by company.\n",
    "\n",
    "# Crunchbase – Look at ML acquisitions, product descriptions.\n",
    "\n",
    "# BuiltWith – Web tech stack detection.\n",
    "\n",
    "# Papers With Code – For more research-y orgs, see what papers are tied to which models and codebases."
   ]
  },
  {
   "cell_type": "code",
   "execution_count": null,
   "id": "169914fb-7a8c-44ef-b2e3-0b9540d6c444",
   "metadata": {},
   "outputs": [],
   "source": [
    "# 🧠 7. Build an Agentic AI Researcher\n",
    "# If you're aiming for scale, consider building an agent that:\n",
    "\n",
    "# Takes in a list of companies.\n",
    "\n",
    "# Searches GitHub, job sites, blogs, LinkedIn.\n",
    "\n",
    "# Extracts stack mentions.\n",
    "\n",
    "# Aggregates and ranks the tools based on relevance or frequency."
   ]
  }
 ],
 "metadata": {
  "kernelspec": {
   "display_name": "Python 3 (ipykernel)",
   "language": "python",
   "name": "python3"
  },
  "language_info": {
   "codemirror_mode": {
    "name": "ipython",
    "version": 3
   },
   "file_extension": ".py",
   "mimetype": "text/x-python",
   "name": "python",
   "nbconvert_exporter": "python",
   "pygments_lexer": "ipython3",
   "version": "3.9.7"
  }
 },
 "nbformat": 4,
 "nbformat_minor": 5
}
