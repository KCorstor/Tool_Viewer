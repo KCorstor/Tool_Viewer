{
 "cells": [
  {
   "cell_type": "code",
   "execution_count": 1,
   "id": "42363b35-cf93-4591-88ac-53840029acfb",
   "metadata": {},
   "outputs": [
    {
     "name": "stdout",
     "output_type": "stream",
     "text": [
      "Requirement already satisfied: python-dotenv in /Users/kevincorstorphine/opt/anaconda3/lib/python3.9/site-packages (1.1.0)\n",
      "Note: you may need to restart the kernel to use updated packages.\n"
     ]
    }
   ],
   "source": [
    "pip install python-dotenv"
   ]
  },
  {
   "cell_type": "code",
   "execution_count": 5,
   "id": "422387ab-e2c2-4d1b-8a70-a33d65cce2b7",
   "metadata": {},
   "outputs": [
    {
     "data": {
      "text/plain": [
       "True"
      ]
     },
     "execution_count": 5,
     "metadata": {},
     "output_type": "execute_result"
    }
   ],
   "source": [
    "import os\n",
    "from dotenv import load_dotenv, dotenv_values\n",
    "load_dotenv()\n"
   ]
  },
  {
   "cell_type": "code",
   "execution_count": 6,
   "id": "384f6ca6-3f48-480b-a2ed-f9291f74d09f",
   "metadata": {},
   "outputs": [
    {
     "name": "stdout",
     "output_type": "stream",
     "text": [
      "Error: API rate limit exceeded for 8d9f7747675e24454cd9b7ed35c58707:Repositories. (But here's the good news: Authenticated requests get a higher rate limit. Check out the documentation for more details.) If you reach out to GitHub Support for help, please include the request ID E508:2F073E:3F421AB:414B8FE:67E45C71 and timestamp 2025-03-26 19:58:42 UTC.\n",
      "Status code: 403\n",
      "Response headers: {'Date': 'Wed, 26 Mar 2025 19:58:42 GMT', 'Content-Type': 'application/json; charset=utf-8', 'X-RateLimit-Limit': '10', 'X-RateLimit-Remaining': '0', 'X-RateLimit-Reset': '1743019144', 'X-RateLimit-Used': '135', 'X-RateLimit-Resource': 'search', 'X-GitHub-Media-Type': 'github.v3; format=json', 'Access-Control-Expose-Headers': 'ETag, Link, Location, Retry-After, X-GitHub-OTP, X-RateLimit-Limit, X-RateLimit-Remaining, X-RateLimit-Used, X-RateLimit-Resource, X-RateLimit-Reset, X-OAuth-Scopes, X-Accepted-OAuth-Scopes, X-Poll-Interval, X-GitHub-Media-Type, X-GitHub-SSO, X-GitHub-Request-Id, Deprecation, Sunset', 'Access-Control-Allow-Origin': '*', 'Strict-Transport-Security': 'max-age=31536000; includeSubdomains; preload', 'X-Frame-Options': 'deny', 'X-Content-Type-Options': 'nosniff', 'X-XSS-Protection': '0', 'Referrer-Policy': 'origin-when-cross-origin, strict-origin-when-cross-origin', 'Content-Security-Policy': \"default-src 'none'\", 'Vary': 'Accept-Encoding, Accept, X-Requested-With', 'Content-Encoding': 'gzip', 'Transfer-Encoding': 'chunked', 'Server': 'github.com', 'X-GitHub-Request-Id': 'E508:2F073E:3F421AB:414B8FE:67E45C71'}\n"
     ]
    }
   ],
   "source": [
    "import requests\n",
    "\n",
    "headers = {\n",
    "    \"Accept\": \"application/vnd.github+json\",\n",
    "    \"Authorization\": \"GITHUB_TOKEN\"\n",
    "}\n",
    "\n",
    "query = \"machine learning\"\n",
    "url = f\"https://api.github.com/search/repositories?q={query}&sort=stars&order=desc&per_page=1&page=1\"\n",
    "\n",
    "response = requests.get(url, headers=headers)\n",
    "data = response.json()\n",
    "\n",
    "if response.status_code != 200:\n",
    "    print(\"Error:\", data.get(\"message\", \"Unknown error\"))\n",
    "    print(\"Status code:\", response.status_code)\n",
    "    print(\"Response headers:\", response.headers)\n",
    "else:\n",
    "    repo = data[\"items\"][0]\n",
    "    print(\"Top repo:\")\n",
    "    print(\"Name:\", repo[\"full_name\"])\n",
    "    print(\"URL:\", repo[\"html_url\"])\n"
   ]
  },
  {
   "cell_type": "code",
   "execution_count": null,
   "id": "aaf3fc3a-ef8f-4bc3-8331-d5a3f0c936fc",
   "metadata": {},
   "outputs": [],
   "source": [
    "\n",
    "add to a folder\n",
    "get requirements, dockerfile, \n"
   ]
  },
  {
   "cell_type": "code",
   "execution_count": 18,
   "id": "615b697c-8655-4380-9251-6e590dc74bd8",
   "metadata": {},
   "outputs": [],
   "source": [
    "# https://chatgpt.com/c/67e2fa1a-2850-8008-99a8-bd908a6eb335\n"
   ]
  },
  {
   "cell_type": "code",
   "execution_count": null,
   "id": "e6bf041d-76e3-49f5-a7cb-dd63584c9248",
   "metadata": {},
   "outputs": [],
   "source": []
  },
  {
   "cell_type": "code",
   "execution_count": 2,
   "id": "16cc0819-8047-4ffd-85d5-e8197c5fecdd",
   "metadata": {},
   "outputs": [
    {
     "ename": "SyntaxError",
     "evalue": "invalid character '🔍' (U+1F50D) (3781455242.py, line 1)",
     "output_type": "error",
     "traceback": [
      "\u001b[0;36m  File \u001b[0;32m\"/var/folders/91/bcl7bj6n2fqf9j03fdhyl02c0000gn/T/ipykernel_21596/3781455242.py\"\u001b[0;36m, line \u001b[0;32m1\u001b[0m\n\u001b[0;31m    🔍 1. Scrape and Analyze Public Repositories (e.g., GitHub)\u001b[0m\n\u001b[0m    ^\u001b[0m\n\u001b[0;31mSyntaxError\u001b[0m\u001b[0;31m:\u001b[0m invalid character '🔍' (U+1F50D)\n"
     ]
    }
   ],
   "source": [
    "# 🔍 1. Scrape and Analyze Public Repositories (e.g., GitHub)\n",
    "# What to look for:\n",
    "\n",
    "# ML frameworks: TensorFlow, PyTorch, Hugging Face Transformers, etc.\n",
    "\n",
    "# Infrastructure: Docker, Kubernetes, Terraform\n",
    "\n",
    "# Languages: Python, Java, Go, etc.\n",
    "\n",
    "# Tooling: MLflow, Weights & Biases, Ray, etc.\n",
    "\n",
    "# How to do it:\n",
    "\n",
    "# Use GitHub’s API to pull repo metadata, requirements.txt, Dockerfile, etc.\n",
    "\n",
    "# Parse for keywords and dependencies.\n",
    "\n",
    "# Analyze commit history and contributors to see which teams or engineers worked on what."
   ]
  },
  {
   "cell_type": "code",
   "execution_count": null,
   "id": "22020adf-72bd-4874-8299-21e10ca9eb7d",
   "metadata": {},
   "outputs": [],
   "source": [
    "# 🧠 2. Use Job Postings for Stack Clues\n",
    "# What to look for:\n",
    "\n",
    "# Job listings for ML Engineers, MLOps, or Applied Scientists.\n",
    "\n",
    "# Stacks and tools mentioned (they’re usually very specific).\n",
    "\n",
    "# Tools to help:\n",
    "\n",
    "# Diffbot or Apollo.io for scraping and structuring job post data.\n",
    "\n",
    "# Simple web scraping + LLM pipeline to extract and summarize"
   ]
  },
  {
   "cell_type": "code",
   "execution_count": null,
   "id": "af461323-28f6-44b6-a7b2-659542284ea6",
   "metadata": {},
   "outputs": [],
   "source": [
    "# 🌐 3. Explore Company Engineering Blogs & Tech Talks\n",
    "# Places to check:\n",
    "\n",
    "# Medium, Dev.to, Substack, company tech blogs.\n",
    "\n",
    "# YouTube talks or conference slides (e.g., NeurIPS, PyData, MLConf).\n",
    "\n",
    "# How to analyze:\n",
    "\n",
    "# Use an agent (e.g. LangChain + LLM) to summarize or cross-reference stacks across companies."
   ]
  },
  {
   "cell_type": "code",
   "execution_count": null,
   "id": "b863a3d1-9b3d-48cb-843b-f8921b1c925d",
   "metadata": {},
   "outputs": [],
   "source": [
    "# 🧩 4. LinkedIn Engineering Profiles\n",
    "# Use case:\n",
    "\n",
    "# Search for engineers in ML roles at the target companies.\n",
    "\n",
    "# Analyze their LinkedIn summaries and endorsements for tooling or stack mentions.\n",
    "\n",
    "# Bonus: You can build a mini-graph of tools used across the org based on who lists what."
   ]
  },
  {
   "cell_type": "code",
   "execution_count": null,
   "id": "fed42043-365c-4c0d-a22a-e6b26bc44d7b",
   "metadata": {},
   "outputs": [],
   "source": [
    "# 📦 5. Inspect Their Products (Client/Server Side)\n",
    "# For web-based ML products:\n",
    "\n",
    "# Use browser dev tools or tools like Wappalyzer to detect front-end and API tools.\n",
    "\n",
    "# Look for WebAssembly, ONNX.js, TensorFlow.js, etc.\n",
    "\n",
    "# For APIs:\n",
    "\n",
    "# If their ML product exposes APIs, use Postman or curl to inspect endpoints and infer architecture."
   ]
  },
  {
   "cell_type": "code",
   "execution_count": null,
   "id": "06cfb131-fb4e-458f-87ab-3a7baeb8eb76",
   "metadata": {},
   "outputs": [],
   "source": [
    "# 🧪 6. Use Prebuilt Tools & Databases\n",
    "# Examples:\n",
    "\n",
    "# StackShare.io – Check stack disclosures by company.\n",
    "\n",
    "# Crunchbase – Look at ML acquisitions, product descriptions.\n",
    "\n",
    "# BuiltWith – Web tech stack detection.\n",
    "\n",
    "# Papers With Code – For more research-y orgs, see what papers are tied to which models and codebases."
   ]
  },
  {
   "cell_type": "code",
   "execution_count": null,
   "id": "169914fb-7a8c-44ef-b2e3-0b9540d6c444",
   "metadata": {},
   "outputs": [],
   "source": [
    "# 🧠 7. Build an Agentic AI Researcher\n",
    "# If you're aiming for scale, consider building an agent that:\n",
    "\n",
    "# Takes in a list of companies.\n",
    "\n",
    "# Searches GitHub, job sites, blogs, LinkedIn.\n",
    "\n",
    "# Extracts stack mentions.\n",
    "\n",
    "# Aggregates and ranks the tools based on relevance or frequency."
   ]
  }
 ],
 "metadata": {
  "kernelspec": {
   "display_name": "Python 3 (ipykernel)",
   "language": "python",
   "name": "python3"
  },
  "language_info": {
   "codemirror_mode": {
    "name": "ipython",
    "version": 3
   },
   "file_extension": ".py",
   "mimetype": "text/x-python",
   "name": "python",
   "nbconvert_exporter": "python",
   "pygments_lexer": "ipython3",
   "version": "3.9.7"
  }
 },
 "nbformat": 4,
 "nbformat_minor": 5
}
