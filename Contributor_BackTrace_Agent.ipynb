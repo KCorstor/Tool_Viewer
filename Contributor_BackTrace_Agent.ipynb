{
 "cells": [
  {
   "cell_type": "code",
   "execution_count": 2,
   "id": "2b42dc6d-8ee2-4de8-be36-5f872f908c4d",
   "metadata": {},
   "outputs": [],
   "source": [
    "#Contributor Research Agent\n",
    "\n",
    "\n",
    "# Here is how chatGPT scraped Ashar's Identity: https://chatgpt.com/c/67e4a0ef-8d90-8008-8d3d-fafb4c1bd3a2                                                                         \n",
    "# People often include their real name, location, personal website or even Linkedin. Scrape Bio, Find their name from that.                                         \n",
    "# Combine GitHub name/location info with job titles to find likely LinkedIn profiles.\n",
    "\n",
    "# Tools: LinkedIn Sales Navigator, PhantomBuster, or custom OpenAI-based fuzzy match\n",
    "\n",
    "\n",
    "\n",
    "\n",
    "\n",
    "\n",
    "\n",
    "#backtrace developers get their real name, email, and linkedin. Not all are doxxed.\n",
    "\n",
    "#Create summary on who they are. Compare it with tool profiling tool. "
   ]
  },
  {
   "cell_type": "code",
   "execution_count": null,
   "id": "5d4b65e5-2b01-4183-8114-11d6cd80ad3c",
   "metadata": {},
   "outputs": [],
   "source": [
    "#filter by american, approachable, english speaking, some kind of interest generator that isn't shitty.  "
   ]
  }
 ],
 "metadata": {
  "kernelspec": {
   "display_name": "Python 3 (ipykernel)",
   "language": "python",
   "name": "python3"
  },
  "language_info": {
   "codemirror_mode": {
    "name": "ipython",
    "version": 3
   },
   "file_extension": ".py",
   "mimetype": "text/x-python",
   "name": "python",
   "nbconvert_exporter": "python",
   "pygments_lexer": "ipython3",
   "version": "3.9.7"
  }
 },
 "nbformat": 4,
 "nbformat_minor": 5
}
